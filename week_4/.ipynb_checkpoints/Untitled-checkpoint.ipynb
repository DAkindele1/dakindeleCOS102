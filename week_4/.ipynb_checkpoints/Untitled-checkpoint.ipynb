{
 "cells": [
  {
   "cell_type": "code",
   "execution_count": null,
   "id": "3cf85d35-3172-45cd-bb2d-cbb44a280105",
   "metadata": {},
   "outputs": [],
   "source": [
    "i = int(input(\"Hello, Please input the calculation you want to make:\")\n",
    "print (\"1. Quadratic Equation\")\n",
    "print (\"2. Cubic Equation\")\n",
    "print (\"3. Quartic Equation\")"
   ]
  },
  {
   "cell_type": "code",
   "execution_count": null,
   "id": "6f6b545d-596e-45a7-83ee-8e566c9f306d",
   "metadata": {},
   "outputs": [],
   "source": []
  }
 ],
 "metadata": {
  "kernelspec": {
   "display_name": "Python 3 (ipykernel)",
   "language": "python",
   "name": "python3"
  },
  "language_info": {
   "codemirror_mode": {
    "name": "ipython",
    "version": 3
   },
   "file_extension": ".py",
   "mimetype": "text/x-python",
   "name": "python",
   "nbconvert_exporter": "python",
   "pygments_lexer": "ipython3",
   "version": "3.11.7"
  }
 },
 "nbformat": 4,
 "nbformat_minor": 5
}
