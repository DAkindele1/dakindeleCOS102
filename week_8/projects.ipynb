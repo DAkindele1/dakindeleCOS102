{
 "cells": [
  {
   "cell_type": "code",
   "execution_count": null,
   "id": "04a66d87-0fcf-434b-9efe-5afaacaf5b54",
   "metadata": {
    "scrolled": true
   },
   "outputs": [],
   "source": [
    "import pandas as pd\n",
    "\n",
    "data1 = pd.read_csv(\"programming_language_trend_over_time.csv\")\n",
    "data2 = pd.read_csv(\"Top-Apps-In-Google-Play.csv\")\n",
    "\n",
    "\n",
    "print(\"First 7 rows of Programming Language Trend over Time:\")\n",
    "print(data1.head(7))\n",
    "\n",
    "print(\"First 7 rows of Top Apps In Google Play:\")\n",
    "print(data2.head(7))\n",
    "\n",
    "print(\"First 3 columns of Programming Language Trend over Time:\")\n",
    "print(data1.iloc[:, :3])\n",
    "\n",
    "print(\"First 3 columns of Top Apps In Google Play:\")\n",
    "print(data2.iloc[:, :3])\n",
    "\n",
    "print(\"One row of Programming Language Trend over Time:\")\n",
    "print(data1.head(1))\n",
    "\n",
    "print(\"One row of Top Apps In Google Play:\")\n",
    "print(data2.head(1))\n"
   ]
  },
  {
   "cell_type": "code",
   "execution_count": null,
   "id": "6e6c51be-1bac-40a2-a2cf-0c330e505983",
   "metadata": {},
   "outputs": [],
   "source": [
    "import pandas as pd\n",
    "\n",
    "# Define the consumption categories, segments, and brands\n",
    "consumption_data = {\n",
    "    'Category': ['Refreshment Beverages Segment', 'Confectionery Segment', 'Intermediate Cocoa Products Segment', \n",
    "                 'Refreshment Beverages Brands', 'Confectionery Brands', 'Intermediate Cocoa Products Brands'],\n",
    "    'Products': [\n",
    "        ['Bournvita', 'Hot Chocolate'],\n",
    "        ['TomTom', 'Buttermint'],\n",
    "        ['Cocoa Powder', 'Cocoa Liquor', 'Cocoa Butter', 'Cocoa Cake'],\n",
    "        ['Cadbury Bournvita', 'Cadbury 3-in-1 Hot Chocolate'],\n",
    "        ['TomTom Classic', 'TomTom Strawberry', 'Buttermint'],\n",
    "        ['Cocoa Powder', 'Cocoa Butter']\n",
    "    ]\n",
    "}\n",
    "\n",
    "# Create a DataFrame\n",
    "df = pd.DataFrame(consumption_data)\n",
    "\n",
    "# Save the DataFrame to a .csv file\n",
    "df.to_csv('cadbury_market.csv', index=False)\n",
    "\n",
    "print(\"Data saved to cadbury_market.csv successfully.\")\n"
   ]
  },
  {
   "cell_type": "code",
   "execution_count": null,
   "id": "b5003653-9ec6-46cd-9ce7-f91746a54f7f",
   "metadata": {},
   "outputs": [],
   "source": []
  }
 ],
 "metadata": {
  "kernelspec": {
   "display_name": "Python 3 (ipykernel)",
   "language": "python",
   "name": "python3"
  },
  "language_info": {
   "codemirror_mode": {
    "name": "ipython",
    "version": 3
   },
   "file_extension": ".py",
   "mimetype": "text/x-python",
   "name": "python",
   "nbconvert_exporter": "python",
   "pygments_lexer": "ipython3",
   "version": "3.11.7"
  }
 },
 "nbformat": 4,
 "nbformat_minor": 5
}
