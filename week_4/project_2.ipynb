{
 "cells": [
  {
   "cell_type": "code",
   "execution_count": 18,
   "id": "3cf85d35-3172-45cd-bb2d-cbb44a280105",
   "metadata": {},
   "outputs": [
    {
     "name": "stdout",
     "output_type": "stream",
     "text": [
      "Hello, Please input the calculation you want to make:\n",
      "1. Quadratic Equation\n",
      "2. Cubic Equation\n",
      "3. Quartic Equation\n"
     ]
    },
    {
     "name": "stdin",
     "output_type": "stream",
     "text": [
      " 2\n",
      "What is the coefficient of x^3 (A)? 6\n",
      "What is the coefficient of x^2 (B)? 4\n",
      "What is the coefficient of x (C)? 2\n",
      "What is the constant? 3\n"
     ]
    },
    {
     "name": "stdout",
     "output_type": "stream",
     "text": [
      "One real root and two complex roots:\n",
      "x1 =  (0.3825085754186458+1.0474244664156367j)\n",
      "x2 =  (-0.5833822120295564-0.48976716027463757j)\n",
      "x3 =  (-0.465793030055756-0.5576573061409991j)\n",
      "Three distinct real roots:\n",
      "x1 =  (0.3825085754186458+1.0474244664156367j)\n",
      "x2 =  (-0.5833822120295564-0.48976716027463757j)\n",
      "x3 =  (-0.465793030055756-0.5576573061409991j)\n"
     ]
    }
   ],
   "source": [
    "def quadratic_function():\n",
    "    a = float(input(\"What is the coefficient of x^2 (A)?\"))\n",
    "    b = float(input(\"What is the coefficient of x (B)?\"))\n",
    "    c = float(input(\"What is the constant (C)?\"))\n",
    "    root1 = ((-b + (b**2 - 4*a*c)**(0.5)) / (2*a))\n",
    "    root2 = ((-b - (b**2 - 4*a*c)**(0.5)) / (2*a))\n",
    "    print (\"The first root is\", root1)\n",
    "    print (\"The second root is\", root2)\n",
    "\n",
    "\n",
    "def cubic_function():\n",
    "    a = float(input(\"What is the coefficient of x^3 (A)?\"))\n",
    "    b = float(input(\"What is the coefficient of x^2 (B)?\"))\n",
    "    c = float(input(\"What is the coefficient of x (C)?\"))\n",
    "    d = float(input(\"What is the constant?\"))\n",
    "    p = (3*a*c - b**2) / (3*a**2)\n",
    "    q = (2*b**3 - 9*a*b*c + 27*a**2*d) / (27*a**3)\n",
    "    d1 = (q**2 / (4 + p**3) / 27)\n",
    "    if d1 > 0:\n",
    "      u = (-q/2 + (d1**0.5))**(1/3)\n",
    "      v = (-q/2 - (d1**0.5))**(1/3)\n",
    "      x1 = u + v - b / (3*a)\n",
    "      x2 = -(u + v)/2 - b / (3*a) + (u - v)*(3**0.5)/2j\n",
    "      x3 = -(u + v)/2 - b / (3*a) - (u - v)*(3**0.5)/2j\n",
    "      print(\"One real root and two complex roots:\")\n",
    "      print(\"x1 = \", x1)\n",
    "      print(\"x2 = \", x2)\n",
    "      print(\"x3 = \", x3)\n",
    "    elif d1 == 0:\n",
    "      u = (-q/2)**(1/3)\n",
    "      v = u\n",
    "      x1 = 2*u - b / (3*a)\n",
    "      x2 = -u - b / (3*a)\n",
    "      print(\"Three real roots, two are equal:\")\n",
    "      print(\"x1 = \", x1)\n",
    "      print(\"x2 = \", x2)\n",
    "      print(\"x3 = \", x3)\n",
    "    elif d1 < 0:\n",
    "      u = (-q/2 + (d1**0.5))**(1/3)\n",
    "      v = (-q/2 - (d1**0.5))**(1/3)\n",
    "      x1 = u + v - b / (3*a)\n",
    "      x2 = -(u + v)/2 - b / (3*a) + (u - v)*(3*0.5)/2j\n",
    "    x3 = -(u + v)/2 - b / (3*a) - (u - v)*(3**0.5)/2j\n",
    "    print(\"Three distinct real roots:\")\n",
    "    print(\"x1 = \", x1)\n",
    "    print(\"x2 = \", x2)\n",
    "    print(\"x3 = \", x3)\n",
    "    \n",
    "\n",
    "print (\"Hello, Please input the calculation you want to make:\")\n",
    "print (\"1. Quadratic Equation\")\n",
    "print (\"2. Cubic Equation\")\n",
    "\n",
    "i = int(input())\n",
    "\n",
    "if i == 1:\n",
    "   quadratic_function()\n",
    "\n",
    "elif i == 2:\n",
    "    cubic_function()"
   ]
  },
  {
   "cell_type": "code",
   "execution_count": 13,
   "id": "ba428c0c-d814-4c03-82cf-23a49877ae6b",
   "metadata": {},
   "outputs": [
    {
     "name": "stdout",
     "output_type": "stream",
     "text": [
      "1324343032.324\n"
     ]
    }
   ],
   "source": [
    "val = '%.3f'%(1324343032.324325235)\n",
    "print (val)"
   ]
  },
  {
   "cell_type": "code",
   "execution_count": null,
   "id": "a71f3d72-8d60-43bd-9f4a-822d37a1cd31",
   "metadata": {},
   "outputs": [],
   "source": []
  }
 ],
 "metadata": {
  "kernelspec": {
   "display_name": "Python 3 (ipykernel)",
   "language": "python",
   "name": "python3"
  },
  "language_info": {
   "codemirror_mode": {
    "name": "ipython",
    "version": 3
   },
   "file_extension": ".py",
   "mimetype": "text/x-python",
   "name": "python",
   "nbconvert_exporter": "python",
   "pygments_lexer": "ipython3",
   "version": "3.11.7"
  }
 },
 "nbformat": 4,
 "nbformat_minor": 5
}
