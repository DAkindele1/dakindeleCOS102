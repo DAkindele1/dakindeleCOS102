{
 "cells": [
  {
   "cell_type": "code",
   "execution_count": null,
   "id": "626fc002-3d46-4446-bb5b-0e018d74b20d",
   "metadata": {},
   "outputs": [],
   "source": [
    "print(\"JSS3 Rose, Set of 2023/2024\")\n",
    "\n",
    "girls = {'Name      |':[ 'Age |' 'Height  |' 'Score  |'],\n",
    "         'Evelyn    |':[ '17  |' '5.5     |' '80     |'],\n",
    "         'Jessica   |':[ '16  |' '6.0     |' '85     |'],\n",
    "         'Somto     |':[ '17  |' '5.4     |' '70     |'],\n",
    "         'Edith     |':[ '18  |' '5.9     |' '60     |'],\n",
    "         'Liza      |':[ '16  |' '5.6     |' '76     |'],\n",
    "         'Madonna   |':[ '18  |' '5.5     |' '66     |'],\n",
    "         'Waje      |':[ '17  |' '6.1     |' '87     |'],\n",
    "         'Tola      |':[ '20  |' '6.0     |' '95     |'],\n",
    "         'Aisha     |':[ '19  |' '5.7     |' '50     |'],\n",
    "         'Latifa    |':[ '17  |' '5.5     |' '49     |'],}\n",
    "\n",
    "boys = {'Name      |': ['Age  |' 'Height  |' 'Score  |'],\n",
    "        'Chinedu   |': ['19   |' '5.7     |' '74     |'],\n",
    "        'Liam      |': ['16   |' '5.9     |' '87     |'],\n",
    "        'Wale      |': ['18   |' '5.8     |' '75     |'],\n",
    "        'Gbenga    |': ['17   |' '6.1     |' '68     |'],\n",
    "        'Abiola    |': ['20   |' '5.9     |' '66     |'],\n",
    "        'Kola      |': ['19   |' '5.5     |' '78     |'],\n",
    "        'Kunle     |': ['16   |' '6.1     |' '87     |'],\n",
    "        'George    |': ['18   |' '5.4     |' '98     |'],\n",
    "        'Thomas    |': ['17   |' '5.8     |' '54     |'],\n",
    "        'Wesley    |': ['19   |' '5.7     |' '60     |'],}\n",
    "\n",
    "for n in girls:\n",
    "  print(n, girls[n])\n",
    "\n",
    "print(\"\\n\")\n",
    "\n",
    "for n in boys:\n",
    "  print(n, boys[n])"
   ]
  },
  {
   "cell_type": "code",
   "execution_count": null,
   "id": "b1f07df4-402f-456a-b3b2-34c36e03a132",
   "metadata": {},
   "outputs": [],
   "source": [
    "print(\"Hello, Welcome to the database for Izfin Technology\")\n",
    "we = int(input(\"Please input the number of years of work experience you have:\"))\n",
    "age = int(input(\"Please input our age (in years)\"))\n",
    "\n",
    "if we > 25 and age >= 55:\n",
    "    print(\"You are eligible for an annual tax revenue of N5,600,000\")\n",
    "\n",
    "elif we > 20 and we < 25 and age >= 45 and age < 55:\n",
    "    print(\"You are eligible for an annual tax revenue of N4,480,000\")\n",
    "\n",
    "elif we > 10 and we < 20 and age >= 35 and age < 45:\n",
    "    print(\"You are eligible for an annual tax revenue of N1,500,000\")\n",
    "elif we < 10 and age < 35:\n",
    "    print(\"You are eligible for an annual tax revenue of N550,000\")"
   ]
  },
  {
   "cell_type": "code",
   "execution_count": null,
   "id": "a1851b02-215c-4c86-8405-3c32e4daf3cb",
   "metadata": {},
   "outputs": [],
   "source": []
  }
 ],
 "metadata": {
  "kernelspec": {
   "display_name": "Python 3 (ipykernel)",
   "language": "python",
   "name": "python3"
  },
  "language_info": {
   "codemirror_mode": {
    "name": "ipython",
    "version": 3
   },
   "file_extension": ".py",
   "mimetype": "text/x-python",
   "name": "python",
   "nbconvert_exporter": "python",
   "pygments_lexer": "ipython3",
   "version": "3.11.7"
  }
 },
 "nbformat": 4,
 "nbformat_minor": 5
}
