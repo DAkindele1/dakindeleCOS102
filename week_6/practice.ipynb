{
 "cells": [
  {
   "cell_type": "code",
   "execution_count": null,
   "id": "b4264c09-5dc7-4dd6-af2c-dcfd90c92c4d",
   "metadata": {},
   "outputs": [],
   "source": [
    "def printme( str ):\n",
    "#This is a print function\n",
    " print (str);\n",
    " return;\n",
    "\n",
    "printme(\"I'm first call to user defined function!\");\n",
    "printme(\"Again second call to the same function\");"
   ]
  },
  {
   "cell_type": "code",
   "execution_count": null,
   "id": "624b1604-9f1c-4869-b67b-7725d84bc328",
   "metadata": {},
   "outputs": [],
   "source": [
    "def changeme( mylist ):\n",
    "#This changes a passed list\n",
    " mylist.append([1,2,3,4])\n",
    " print (\"Values inside the function: \", mylist)\n",
    " return\n",
    "mylist = [10, 20, 30]\n",
    "changeme( mylist )\n",
    "print (\"Values outside the function: \", mylist)"
   ]
  },
  {
   "cell_type": "code",
   "execution_count": null,
   "id": "4634d04c-edea-4879-8b74-b6802065e590",
   "metadata": {},
   "outputs": [],
   "source": [
    "def changeme( mylist ):\n",
    "#This changes a passed list\n",
    " mylist = [1,2,3,4];\n",
    " print(\"Values inside the function: \", mylist)\n",
    " return\n",
    "mylist = [10,20,30];\n",
    "changeme( mylist );\n",
    "print (\"Values outside the function: \", mylist)"
   ]
  },
  {
   "cell_type": "code",
   "execution_count": null,
   "id": "1f6dbea2-8519-4d17-8545-1cbe7aaadc9b",
   "metadata": {},
   "outputs": [],
   "source": [
    "def printme( str ):\n",
    "#This prints a passed string\n",
    " print (str);\n",
    " return;\n",
    "printme( str = \"David\" );"
   ]
  },
  {
   "cell_type": "code",
   "execution_count": null,
   "id": "1f2864bd-09c4-4762-b26f-633d278b5fd1",
   "metadata": {},
   "outputs": [],
   "source": [
    "def printinfo( name, age ):\n",
    "#Test function\n",
    " print (\"Name: \", name);\n",
    " print (\"Age: \", age);\n",
    " return;\n",
    "printinfo( age=50, name=\"miki\" );"
   ]
  },
  {
   "cell_type": "code",
   "execution_count": null,
   "id": "615b9aae-05c9-4839-b1b7-8063135060ad",
   "metadata": {},
   "outputs": [],
   "source": [
    "def printinfo( name, age = 35 ):\n",
    "#Test function\n",
    " print (\"Name: \", name);\n",
    " print (\"Age: \", age);\n",
    " return;\n",
    "printinfo( age=50, name=\"miki\" );\n",
    "printinfo( name=\"miki\" );"
   ]
  },
  {
   "cell_type": "code",
   "execution_count": null,
   "id": "76db5fdf-3f06-4740-9a93-932db88b5d7e",
   "metadata": {},
   "outputs": [],
   "source": [
    "def printinfo( arg1, *vartuple ):\n",
    "#This is test\n",
    " print (\"Output is: \")\n",
    " print (arg1)\n",
    " for var in vartuple:\n",
    "  print (var)\n",
    " return;\n",
    "printinfo( 10 );\n",
    "printinfo( 70, 60, 50 );"
   ]
  },
  {
   "cell_type": "code",
   "execution_count": null,
   "id": "3ad23bfd-e8c6-4b10-85b0-e0bccfedf762",
   "metadata": {},
   "outputs": [],
   "source": [
    "total = 50; # This is global variable.\n",
    "def sum( arg1, arg2 ):\n",
    "# Add both the parameters\n",
    " total = arg1 + arg2;\n",
    " print (\"Inside the function local total : \", total)\n",
    " return total;\n",
    "# Now you can call sum function\n",
    "sum( 10, 20 );\n",
    "print (\"Outside the function global total : \", total)"
   ]
  },
  {
   "cell_type": "code",
   "execution_count": null,
   "id": "aa071082-38e0-4ce7-82e9-4636ec91fc29",
   "metadata": {},
   "outputs": [],
   "source": [
    "def swap(x, y):\n",
    " global a\n",
    " a = \"Lawal\"\n",
    " x,y = y,x\n",
    " b = \"Chris\"\n",
    " b = \"Edward\"\n",
    " c = \"Lola\"\n",
    " print(a,b,x,y)\n",
    "a = \"Mary\"\n",
    "swap(\"Tina\",\"Tolu\")\n",
    "print (a)"
   ]
  },
  {
   "cell_type": "code",
   "execution_count": null,
   "id": "7ec70ff3-d532-4eb0-a29f-e9d879cc9c13",
   "metadata": {},
   "outputs": [],
   "source": [
    "import tkinter as tk\n",
    "\n",
    "# Handling button click event\n",
    "def button_click():\n",
    "#print(\"Button clicked!\")\n",
    "\n",
    "# Show an information message box\n",
    " msgbox.showinfo(\"Info\", \"Welcome to COS 102 GUI App!\\n\")\n",
    "\n",
    "# Ask for user confirmation\n",
    " result = msgbox.askyesno(\"Confirmation\", \"Do you want to continue?\")\n",
    "\n",
    "# Create the main window\n",
    "root = tk. Tk()\n",
    "root.title(\"Home Page\")\n",
    "root.geometry(\"300x100\")\n",
    "\n",
    "# Add a label widget\n",
    "label = tk.Label(root, text=\"Hello Friend \\n\")\n",
    "label.pack()\n",
    "\n",
    "# Add a button widget\n",
    "button = tk.Button(root, text=\"Click Me!\", command=button_click)\n",
    "button.pack()\n",
    "\n",
    "# Styling the button widget\n",
    "button.config(fg=\"red\", bg=\"yellow\")\n",
    "\n",
    "# Start the event Loop\n",
    "root.mainloop()"
   ]
  },
  {
   "cell_type": "code",
   "execution_count": null,
   "id": "d6c06503-e388-43df-a69d-6244794f95c3",
   "metadata": {},
   "outputs": [],
   "source": [
    "import tkinter as tk\n",
    "from tkinter import messagebox\n",
    "from PIL import Image, ImageTk\n",
    "\n",
    "def welcomeMessage(username):\n",
    "# Create a Tkinter window\n",
    " window = tk. Toplevel(root)\n",
    " window.title(\"Admin Box\")\n",
    " window.geometry(\"500x200\")\n",
    "\n",
    " label_1 = tk.Label(window, text=f\"Welcome {username}\\n\")\n",
    " label_1.pack()\n",
    " label_2 = tk.Label(window, text=\"This is Python GUI with Tkinter\")\n",
    " label_2.pack()\n",
    "\n",
    "# Run the Tkinter event Loop\n",
    " root.mainloop()\n",
    "\n",
    "def submit():\n",
    " username = username_entry.get()\n",
    " password = password_entry.get()\n",
    "\n",
    " if password == \"cos102\":\n",
    "  welcomeMessage(username)\n",
    " else:\n",
    "  messagebox.showerror(\"Login\", \"Invalid password\")\n",
    "\n",
    "# Create main window\n",
    "root = tk. Tk()\n",
    "root.title(\"Login Form\")\n",
    "root.geometry(\"500x200\")\n",
    "\n",
    "# Create username label and entry\n",
    "username_label = tk. Label(root, text=\"Username:\")\n",
    "username_label.pack()\n",
    "username_entry = tk.Entry(root)\n",
    "username_entry.pack()\n",
    "\n",
    "# Create password label and entry\n",
    "password_label = tk. Label(root, text=\"Password:\")\n",
    "password_label.pack()\n",
    "password_entry = tk. Entry(root, show=\"*\")\n",
    "password_entry.pack()\n",
    "\n",
    "# Create submit button\n",
    "submit_button = tk.Button(root, text=\"Submit\", command=submit)\n",
    "submit_button.pack()\n",
    "\n",
    "# Run the main event Loop\n",
    "root.mainloop()"
   ]
  },
  {
   "cell_type": "code",
   "execution_count": null,
   "id": "cb06b765-2bc2-4919-985c-5079d8330cce",
   "metadata": {},
   "outputs": [],
   "source": []
  }
 ],
 "metadata": {
  "kernelspec": {
   "display_name": "Python 3 (ipykernel)",
   "language": "python",
   "name": "python3"
  },
  "language_info": {
   "codemirror_mode": {
    "name": "ipython",
    "version": 3
   },
   "file_extension": ".py",
   "mimetype": "text/x-python",
   "name": "python",
   "nbconvert_exporter": "python",
   "pygments_lexer": "ipython3",
   "version": "3.11.7"
  }
 },
 "nbformat": 4,
 "nbformat_minor": 5
}
