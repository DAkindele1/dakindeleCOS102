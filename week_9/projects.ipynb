{
 "cells": [
  {
   "cell_type": "code",
   "execution_count": 10,
   "id": "37b0e23e-d4b3-443d-aa55-f83f5b6bbc5c",
   "metadata": {},
   "outputs": [
    {
     "name": "stdin",
     "output_type": "stream",
     "text": [
      " Mary Evans\n"
     ]
    }
   ],
   "source": [
    "import tkinter as tk\n",
    "import random as rd\n",
    "\n",
    "\n",
    "employees = [\n",
    "    \"Mary Evans\", \"Eyo Ishan\", \"Durojaiye Dare\", \"Adams Ali\", \n",
    "    \"Andrew Ugwu\", \"Stella Mankinde\", \"Jane Akibo\", \"Ago James\", \n",
    "    \"Michell Taiwo\", \"Abraham Jones\", \"Nicole Anide\", \"Kosi Korso\", \n",
    "    \"Adele Martins\", \"Emmanuel Ojo\", \"Ajayi Fatima\"\n",
    "]\n",
    "number = len(employees)\n",
    "number = number+1\n",
    "attendance = []\n",
    "tasks = [\"Loading\", \"Transporting\", \"Reveiwing Orders\", \"Customer Service\", \"Delivering Items\"]\n",
    "emp = input()\n",
    "\n",
    "class Employee:\n",
    "    def check_employee():\n",
    "        if all(emp == employees for i in number):\n",
    "            take_attendance()\n",
    "        \n",
    "        else:\n",
    "            refuse_access()\n",
    "    \n",
    "        \n",
    "    def take_attendance():\n",
    "        attendance.append(emp)\n",
    "        assign_task()\n",
    "        \n",
    "    def assign_task(emp):\n",
    "        rand_num = rd.randint(0,5)\n",
    "        emp_task = tasks[rand_num]\n",
    "        print(\"Hello {},Your task today is {}\", emp, emp_task)\n",
    "        \n",
    "    def refuse_access():\n",
    "        print(\"Hello {}\", f\"Sorry, you are not an employee of Mrs. Jane\", emp)\n",
    "        \n",
    "        \n",
    "\n"
   ]
  },
  {
   "cell_type": "code",
   "execution_count": null,
   "id": "aff7b1de-01c8-489d-9425-98367059dc07",
   "metadata": {},
   "outputs": [],
   "source": [
    "root = tk. Tk()\n",
    "root.title(\"Employee Login Form\")\n",
    "root.geometry(\"1080x720\")\n",
    "\n",
    "emp_label = tk.Label(root, text=\"Please input your name\")\n",
    "emp_label.pack()\n",
    "emp_entry = tk. Entry(root)\n",
    "emp_entry.pack()\n",
    "\n",
    "submit_button = tk.Button(root, text=\"Submit\", command=check_employee)\n",
    "submit_button.pack()\n",
    "\n",
    "root.mainloop()"
   ]
  }
 ],
 "metadata": {
  "kernelspec": {
   "display_name": "Python 3 (ipykernel)",
   "language": "python",
   "name": "python3"
  },
  "language_info": {
   "codemirror_mode": {
    "name": "ipython",
    "version": 3
   },
   "file_extension": ".py",
   "mimetype": "text/x-python",
   "name": "python",
   "nbconvert_exporter": "python",
   "pygments_lexer": "ipython3",
   "version": "3.11.7"
  }
 },
 "nbformat": 4,
 "nbformat_minor": 5
}
